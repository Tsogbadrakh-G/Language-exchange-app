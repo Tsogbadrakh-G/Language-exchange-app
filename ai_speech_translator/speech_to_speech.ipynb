{
 "cells": [
  {
   "cell_type": "code",
   "execution_count": 1,
   "metadata": {},
   "outputs": [
    {
     "name": "stderr",
     "output_type": "stream",
     "text": [
      "/Users/gtsogbadrah/Library/Python/3.9/lib/python/site-packages/urllib3/__init__.py:34: NotOpenSSLWarning: urllib3 v2.0 only supports OpenSSL 1.1.1+, currently the 'ssl' module is compiled with 'LibreSSL 2.8.3'. See: https://github.com/urllib3/urllib3/issues/3020\n",
      "  warnings.warn(\n",
      "/Users/gtsogbadrah/Library/Python/3.9/lib/python/site-packages/tqdm/auto.py:21: TqdmWarning: IProgress not found. Please update jupyter and ipywidgets. See https://ipywidgets.readthedocs.io/en/stable/user_install.html\n",
      "  from .autonotebook import tqdm as notebook_tqdm\n"
     ]
    },
    {
     "name": "stdout",
     "output_type": "stream",
     "text": [
      "Loaded as API: https://facebook-seamless-m4t.hf.space/ ✔\n"
     ]
    }
   ],
   "source": [
    "from gradio_client import Client\n",
    "\n",
    "client = Client(\"https://facebook-seamless-m4t.hf.space/\")\n",
    "\n"
   ]
  },
  {
   "cell_type": "code",
   "execution_count": 2,
   "metadata": {},
   "outputs": [
    {
     "name": "stdout",
     "output_type": "stream",
     "text": [
      "(None, 'Сайн байна уу, миний нэр Стергер.')\n"
     ]
    }
   ],
   "source": [
    "def convertTuple(tup):\n",
    "    st = ''.join(map(str, tup))\n",
    "    return st[4:len(st)-1]\n",
    "\n",
    "\n",
    "# result = client.predict(\n",
    "# \t\t\t\t\"S2TT (Speech to Text translation)\",\t# str  in 'Task' Dropdown component\n",
    "#                 \"microphone\",\t# str in 'Audio source' Radio component\n",
    "# \t\t\t\t\"audio/input.wav\",\t# str (filepath or URL to file) in 'Input speech' Audio component\n",
    "# \t\t\t\t\"audio/input.wav\",\t# str (filepath or URL to file)in  'Input speech'# Audio component\n",
    "# \t\t\t\t\"hi!\",\t# str in 'Input text' Textbox component\n",
    "# \t\t\t\t\"English\",\t# str  in 'Source language' Dropdown component\n",
    "# \t\t\t\t\"Halh Mongolian\",\t# str  in 'Target language' Dropdown component\n",
    "# \t\t\t\tapi_name=\"/run\"\n",
    "# )\n",
    "\n",
    "# Speech to text: from 100 input languages to 100 output languages// \n",
    "# from any language to Mongolian text, \n",
    "# next we use Chimege then to voice mgl\n",
    "result = client.predict(\n",
    "\t\t\t\t\"S2TT (Speech to Text translation)\",\t# str  in 'Task' Dropdown component\n",
    "                \"files\",\t# str in 'Audio source' Radio component\n",
    "\t\t\t\t\"audio/en_audio.m4a\",\t# str (filepath or URL to file) in 'Input speech' Audio component\n",
    "\t\t\t\t\"audio/en_audio.m4a\",\t# str (filepath or URL to file)in  'Input speech'# Audio component\n",
    "\t\t\t\t\"hi!\",\t# str in 'Input text' Textbox component\n",
    "\t\t\t\t\"English\",\t# str  in 'Source language' Dropdown component\n",
    "\t\t\t\t\"Halh Mongolian\",\t# str  in 'Target language' Dropdown component\n",
    "\t\t\t\tapi_name=\"/run\"\n",
    ")\n",
    "\n",
    "## speech to speech: from Mongolia to 36 languages\n",
    "# result = client.predict(\n",
    "# \t\t\t\t\"S2ST (Speech to Speech translation)\",\t# str  in 'Task' Dropdown component\n",
    "#                 \"files\",\t# str in 'Audio source' Radio component\n",
    "# \t\t\t\t\"audio/mgl_audio.m4a\",\t# str (filepath or URL to file) in 'Input speech' Audio component\n",
    "# \t\t\t\t\"audio/mgl_audio.m4a\",\t# str (filepath or URL to file)in  'Input speech'# Audio component\n",
    "# \t\t\t\t\"hi!\",\t# str in 'Input text' Textbox component\n",
    "# \t\t\t\t\"Halh Mongolian\",\t# str  in 'Source language' Dropdown component\n",
    "# \t\t\t\t\"English\",\t# str  in 'Target language' Dropdown component\n",
    "# \t\t\t\tapi_name=\"/run\"\n",
    "# )\n",
    "\n",
    "print(result)\n",
    "\n",
    "targeted_languga_text=convertTuple(result)"
   ]
  },
  {
   "cell_type": "code",
   "execution_count": 3,
   "metadata": {},
   "outputs": [
    {
     "name": "stdout",
     "output_type": "stream",
     "text": [
      "None\n"
     ]
    }
   ],
   "source": [
    "import requests\n",
    "\n",
    "\n",
    "def synthesize(text):\n",
    "    url = \"https://api.chimege.com/v1.2/synthesize\"\n",
    "    headers = {\n",
    "        'Content-Type': 'plain/text',\n",
    "        'Token': '7769d0fe9a57fda0588cae44dff6f469ad1ea464a003a0f004034c3443f9fe40',\n",
    "    }\n",
    "\n",
    "    r = requests.post(\n",
    "        url, data=text.encode('utf-8'), headers=headers)\n",
    "\n",
    "    with open(\"audio/output.wav\", 'wb') as out:\n",
    "        out.write(r.content)\n",
    "\n",
    "\n",
    "print(synthesize(targeted_languga_text))\n"
   ]
  }
 ],
 "metadata": {
  "kernelspec": {
   "display_name": "Python 3",
   "language": "python",
   "name": "python3"
  },
  "language_info": {
   "codemirror_mode": {
    "name": "ipython",
    "version": 3
   },
   "file_extension": ".py",
   "mimetype": "text/x-python",
   "name": "python",
   "nbconvert_exporter": "python",
   "pygments_lexer": "ipython3",
   "version": "3.9.6"
  },
  "orig_nbformat": 4
 },
 "nbformat": 4,
 "nbformat_minor": 2
}
