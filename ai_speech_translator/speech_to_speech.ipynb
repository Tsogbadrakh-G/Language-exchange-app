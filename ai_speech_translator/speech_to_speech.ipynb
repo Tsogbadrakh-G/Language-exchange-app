{
 "cells": [
  {
   "cell_type": "code",
   "execution_count": 29,
   "metadata": {},
   "outputs": [
    {
     "name": "stdout",
     "output_type": "stream",
     "text": [
      "Loaded as API: https://facebook-seamless-m4t.hf.space/ ✔\n"
     ]
    }
   ],
   "source": [
    "from gradio_client import Client\n",
    "\n",
    "client = Client(\"https://facebook-seamless-m4t.hf.space/\")\n",
    "\n"
   ]
  },
  {
   "cell_type": "code",
   "execution_count": 37,
   "metadata": {},
   "outputs": [
    {
     "name": "stdout",
     "output_type": "stream",
     "text": [
      "(None, 'Сайн байна уу, миний нэр Стергер.')\n",
      "Сайн байна уу, миний нэр Стергер\n"
     ]
    }
   ],
   "source": [
    "def convertTuple(tup):\n",
    "    st = ''.join(map(str, tup))\n",
    "    return st[4:len(st)-1]\n",
    "\n",
    "\n",
    "result = client.predict(\n",
    "\t\t\t\t\"S2TT (Speech to Text translation)\",\t# str  in 'Task' Dropdown component\n",
    "                \"files\",\t# str in 'Audio source' Radio component\n",
    "\t\t\t\t\"audio/auido.m4a\",\t# str (filepath or URL to file) in 'Input speech' Audio component\n",
    "\t\t\t\t\"audio/auido.m4a\",\t# str (filepath or URL to file)in  'Input speech'# Audio component\n",
    "\t\t\t\t\"hi!\",\t# str in 'Input text' Textbox component\n",
    "\t\t\t\t\"English\",\t# str  in 'Source language' Dropdown component\n",
    "\t\t\t\t\"Halh Mongolian\",\t# str  in 'Target language' Dropdown component\n",
    "\t\t\t\tapi_name=\"/run\"\n",
    ")\n",
    "\n",
    "print(result)\n",
    "\n",
    "targeted_languga_text=convertTuple(result)"
   ]
  }
 ],
 "metadata": {
  "kernelspec": {
   "display_name": "Python 3",
   "language": "python",
   "name": "python3"
  },
  "language_info": {
   "codemirror_mode": {
    "name": "ipython",
    "version": 3
   },
   "file_extension": ".py",
   "mimetype": "text/x-python",
   "name": "python",
   "nbconvert_exporter": "python",
   "pygments_lexer": "ipython3",
   "version": "3.9.6"
  },
  "orig_nbformat": 4
 },
 "nbformat": 4,
 "nbformat_minor": 2
}
