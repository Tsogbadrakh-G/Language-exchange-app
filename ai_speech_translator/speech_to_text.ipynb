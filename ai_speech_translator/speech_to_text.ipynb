{
 "cells": [
  {
   "cell_type": "code",
   "execution_count": 65,
   "metadata": {},
   "outputs": [],
   "source": [
    "import os \n",
    "import azure.cognitiveservices.speech as speechsdk"
   ]
  },
  {
   "cell_type": "code",
   "execution_count": 66,
   "metadata": {},
   "outputs": [
    {
     "name": "stdout",
     "output_type": "stream",
     "text": [
      "Speak into your microphone.\n",
      "No speech could be recognized: NoMatchDetails(reason=NoMatchReason.InitialSilenceTimeout)\n"
     ]
    }
   ],
   "source": [
    "# def from_file():\n",
    "#     audio_input=speechsdk.AudioConfig(filename=\"./ai_speech_translator/audio/CD02.mp3\")\n",
    "#     speech_recognizer= speechsdk.SpeechRecognizer(speech_config=speech_config, audio_config=audio_input, language=\"ja-JP\")\n",
    "    # speech_recognizer.start_continuous_recognition()\n",
    "\n",
    "    # done=False\n",
    "\n",
    "    # def on_recognized(evt):\n",
    "    #     assert(\n",
    "    #         evt.result.reason==speechsdk.ResultReason.RecognizedSpeech\n",
    "    #     )\n",
    "    #     print(\"RECOGNIZED: {}\".format(evt))\n",
    "\n",
    "    # def stop_cb(evt):\n",
    "    #     print(\"CLOSING on {}\".format(evt))\n",
    "    #     speech_recognizer.stop_continuous_recognition()\n",
    "    #     nonlocal done\n",
    "    #     done=True\n",
    "\n",
    "    # speech_recognizer.recognized.connect(on_recognized)\n",
    "    # speech_recognizer.session_stopped.connect(stop_cb)\n",
    "\n",
    "    # while not done:\n",
    "    #     time.sleep(0.5)\n",
    "\n",
    "#from-file()\n",
    "\n",
    "\n",
    "def recognize_from_microphone():\n",
    "    # This example requires environment variables named \"SPEECH_KEY\" and \"SPEECH_REGION\"\n",
    "    speech_config = speechsdk.SpeechConfig(subscription='e7c982ae852c43be8b0cce23a8381092', region='eastasia')\n",
    "    speech_config.speech_recognition_language=\"mn-MN\"\n",
    "\n",
    "    audio_config = speechsdk.audio.AudioConfig(use_default_microphone=True)\n",
    "    speech_recognizer = speechsdk.SpeechRecognizer(speech_config=speech_config, audio_config=audio_config)\n",
    "\n",
    "    print(\"Speak into your microphone.\")\n",
    "    speech_recognition_result = speech_recognizer.recognize_once_async().get()\n",
    "\n",
    "    if speech_recognition_result.reason == speechsdk.ResultReason.RecognizedSpeech:\n",
    "        print(\"Recognized: {}\".format(speech_recognition_result.text))\n",
    "    elif speech_recognition_result.reason == speechsdk.ResultReason.NoMatch:\n",
    "        print(\"No speech could be recognized: {}\".format(speech_recognition_result.no_match_details))\n",
    "    elif speech_recognition_result.reason == speechsdk.ResultReason.Canceled:\n",
    "        cancellation_details = speech_recognition_result.cancellation_details\n",
    "        print(\"Speech Recognition canceled: {}\".format(cancellation_details.reason))\n",
    "        if cancellation_details.reason == speechsdk.CancellationReason.Error:\n",
    "            print(\"Error details: {}\".format(cancellation_details.error_details))\n",
    "            print(\"Did you set the speech resource key and region values?\")\n",
    "\n",
    "recognize_from_microphone()"
   ]
  }
 ],
 "metadata": {
  "kernelspec": {
   "display_name": "Python 3",
   "language": "python",
   "name": "python3"
  },
  "language_info": {
   "codemirror_mode": {
    "name": "ipython",
    "version": 3
   },
   "file_extension": ".py",
   "mimetype": "text/x-python",
   "name": "python",
   "nbconvert_exporter": "python",
   "pygments_lexer": "ipython3",
   "version": "3.9.6"
  },
  "orig_nbformat": 4
 },
 "nbformat": 4,
 "nbformat_minor": 2
}
