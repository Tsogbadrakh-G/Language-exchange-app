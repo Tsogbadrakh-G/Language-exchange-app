{
 "cells": [
  {
   "cell_type": "code",
   "execution_count": 1,
   "metadata": {},
   "outputs": [],
   "source": [
    "import json\n",
    "import azure.cognitiveservices.speech as speech\n"
   ]
  },
  {
   "cell_type": "code",
   "execution_count": 2,
   "metadata": {},
   "outputs": [],
   "source": [
    "API_KEY='e7c982ae852c43be8b0cce23a8381092'\n",
    "ENDPOINT = 'https://eastasia.api.cognitive.microsoft.com/sts/v1.0/issuetoken'\n",
    "\n",
    "translation_config= speech.translation.SpeechTranslationConfig(\n",
    "    subscription=API_KEY, endpoint=ENDPOINT  \n",
    ")\n",
    "\n",
    "media_file_path = './ai_speech_translator/audio/CD02.mp3'"
   ]
  },
  {
   "cell_type": "code",
   "execution_count": 7,
   "metadata": {},
   "outputs": [],
   "source": [
    "translation_config = speech.translation.SpeechTranslationConfig(\n",
    "    subscription=API_KEY, endpoint=ENDPOINT)\n",
    "\n",
    "translation_config.speech_recognition_language = 'ja-JP'\n",
    "translation_config.add_target_language('en')\n",
    "\n"
   ]
  },
  {
   "cell_type": "code",
   "execution_count": 11,
   "metadata": {},
   "outputs": [],
   "source": [
    "translation_config = speech.translation.SpeechTranslationConfig(\n",
    "    subscription=API_KEY, endpoint=ENDPOINT)\n",
    "\n",
    "translation_config.speech_recognition_language = 'ja-JP'\n",
    "translation_config.add_target_language('en')\n",
    "audio_config = speech.audio.AudioConfig(filename=media_file_path)"
   ]
  },
  {
   "cell_type": "code",
   "execution_count": 14,
   "metadata": {},
   "outputs": [
    {
     "ename": "RuntimeError",
     "evalue": "Exception with error code: \n[CALL STACK BEGIN]\n\n3   libMicrosoft.CognitiveServices.Spee 0x00000001201b2cd8 _ZN9Microsoft17CognitiveServices6Speech4Impl17CSpxWavFileReader4OpenEPKc + 708\n4   libMicrosoft.CognitiveServices.Spee 0x00000001201b0c08 _ZN9Microsoft17CognitiveServices6Speech4Impl15CSpxWavFilePump10EnsureFileEPKc + 236\n5   libMicrosoft.CognitiveServices.Spee 0x00000001201b12b4 _ZThn64_N9Microsoft17CognitiveServices6Speech4Impl15CSpxWavFilePump4OpenEPKc + 24\n6   libMicrosoft.CognitiveServices.Spee 0x00000001201c1488 _ZN9Microsoft17CognitiveServices6Speech4Impl41ISpxAudioSourceControlAdaptsAudioPumpImplINS2_26CSpxFileAudioSourceAdapterEE17InitAudioFilePumpEPKcS7_ + 96\n7   libMicrosoft.CognitiveServices.Spee 0x00000001201bebe8 _ZN9Microsoft17CognitiveServices6Speech4Impl27ISpxAudioSourceFilePumpImplINS2_26CSpxFileAudioSourceAdapterEE12InitFromFileEPKc + 816\n8   libMicrosoft.CognitiveServices.Spee 0x00000001202f99fc _ZN9Microsoft17CognitiveServices6Speech4Impl31ISpxAudioSourceInitDelegateImplINS2_29CSpxDelegateToSharedPtrHelperINS2_19ISpxAudioSourceInitELb0EEEE12InitFromFileEPKc + 132\n9   libMicrosoft.CognitiveServices.Spee 0x00000001202f99fc _ZN9Microsoft17CognitiveServices6Speech4Impl31ISpxAudioSourceInitDelegateImplINS2_29CSpxDelegateToSharedPtrHelperINS2_19ISpxAudioSourceInitELb0EEEE12InitFromFileEPKc + 132\n10  libMicrosoft.CognitiveServices.Spee 0x000000012024c224 _ZN9Microsoft17CognitiveServices6Speech4Impl20QueryAndInvokeMemberINS2_19ISpxAudioSourceInitENS2_20ISpxAudioSessionShimEMS4_FvPKcEJRS7_EEEvNSt3__110shared_ptrIT0_EET1_DpOT2_ + 180\n11  libMicrosoft.CognitiveServices.Spee 0x000000012024bf0c _ZN9Microsoft17CognitiveServices6Speech4Impl22CSpxAudioStreamSession12InitFromFileEPKc + 276\n12  libMicrosoft.CognitiveServices.Spee 0x0000000120290f2c _ZN9Microsoft17CognitiveServices6Speech4Impl20CSpxSpeechApiFactory31InitSessionFromAudioInputConfigENSt3__110shared_ptrINS2_26ISpxAudioStreamSessionInitEEENS5_INS2_15ISpxAudioConfigEEE + 624\n13  libMicrosoft.CognitiveServices.Spee 0x000000012028e9b4 _ZN9Microsoft17CognitiveServices6Speech4Impl20CSpxSpeechApiFactory45CreateTranslationRecognizerFromConfigInternalENSt3__110shared_ptrINS2_15ISpxAudioConfigEEE + 552\n14  libMicrosoft.CognitiveServices.Spee 0x000000012028eed4 _ZThn48_N9Microsoft17CognitiveServices6Speech4Impl20CSpxSpeechApiFactory37CreateTranslationRecognizerFromConfigENSt3__110shared_ptrINS2_15ISpxAudioConfigEEE + 68\n15  libMicrosoft.CognitiveServices.Spee 0x0000000120057320 recognizer_create_translation_recognizer_from_config + 1392\n16  libffi.dylib                        0x00000001acf5c050 ffi_call_SYSV + 80\n17  libffi.dylib                        0x00000001acf64af8 ffi_call_int + 1208\n18  _ctypes.cpython-39-darwin.so        0x00000001045f33cc PyInit__ctypes + 25392\n19  _ctypes.cpython-39-darwin.so        0x00000001045ebed8 _ctypes.cpython-39-darwin.so + 16088\n[CALL STACK END]\n\nException with an error code: 0x8 (SPXERR_FILE_OPEN_FAILED)",
     "output_type": "error",
     "traceback": [
      "\u001b[0;31m---------------------------------------------------------------------------\u001b[0m",
      "\u001b[0;31mRuntimeError\u001b[0m                              Traceback (most recent call last)",
      "Cell \u001b[0;32mIn[14], line 1\u001b[0m\n\u001b[0;32m----> 1\u001b[0m recognizer \u001b[39m=\u001b[39m speech\u001b[39m.\u001b[39;49mtranslation\u001b[39m.\u001b[39;49mTranslationRecognizer(\n\u001b[1;32m      2\u001b[0m     translation_config\u001b[39m=\u001b[39;49mtranslation_config, audio_config\u001b[39m=\u001b[39;49maudio_config)\n",
      "File \u001b[0;32m~/Library/Python/3.9/lib/python/site-packages/azure/cognitiveservices/speech/translation.py:344\u001b[0m, in \u001b[0;36mTranslationRecognizer.__init__\u001b[0;34m(self, translation_config, auto_detect_source_language_config, audio_config)\u001b[0m\n\u001b[1;32m    342\u001b[0m handle \u001b[39m=\u001b[39m _spx_handle(\u001b[39m0\u001b[39m)\n\u001b[1;32m    343\u001b[0m \u001b[39mif\u001b[39;00m auto_detect_source_language_config \u001b[39mis\u001b[39;00m \u001b[39mNone\u001b[39;00m:\n\u001b[0;32m--> 344\u001b[0m     _call_hr_fn(\n\u001b[1;32m    345\u001b[0m         fn\u001b[39m=\u001b[39;49m_sdk_lib\u001b[39m.\u001b[39;49mrecognizer_create_translation_recognizer_from_config,\n\u001b[1;32m    346\u001b[0m         \u001b[39m*\u001b[39;49m[ctypes\u001b[39m.\u001b[39;49mbyref(handle), translation_config\u001b[39m.\u001b[39;49m_handle, audio_config_handle])\n\u001b[1;32m    347\u001b[0m \u001b[39melse\u001b[39;00m:\n\u001b[1;32m    348\u001b[0m     _call_hr_fn(\n\u001b[1;32m    349\u001b[0m         fn\u001b[39m=\u001b[39m_sdk_lib\u001b[39m.\u001b[39mrecognizer_create_translation_recognizer_from_auto_detect_source_lang_config,\n\u001b[1;32m    350\u001b[0m         \u001b[39m*\u001b[39m[ctypes\u001b[39m.\u001b[39mbyref(handle), translation_config\u001b[39m.\u001b[39m_handle, auto_detect_source_language_config\u001b[39m.\u001b[39m_handle, audio_config_handle])\n",
      "File \u001b[0;32m~/Library/Python/3.9/lib/python/site-packages/azure/cognitiveservices/speech/interop.py:62\u001b[0m, in \u001b[0;36m_call_hr_fn\u001b[0;34m(fn, *args)\u001b[0m\n\u001b[1;32m     60\u001b[0m fn\u001b[39m.\u001b[39mrestype \u001b[39m=\u001b[39m _spx_hr\n\u001b[1;32m     61\u001b[0m hr \u001b[39m=\u001b[39m fn(\u001b[39m*\u001b[39margs) \u001b[39mif\u001b[39;00m \u001b[39mlen\u001b[39m(args) \u001b[39m>\u001b[39m \u001b[39m0\u001b[39m \u001b[39melse\u001b[39;00m fn()\n\u001b[0;32m---> 62\u001b[0m _raise_if_failed(hr)\n",
      "File \u001b[0;32m~/Library/Python/3.9/lib/python/site-packages/azure/cognitiveservices/speech/interop.py:55\u001b[0m, in \u001b[0;36m_raise_if_failed\u001b[0;34m(hr)\u001b[0m\n\u001b[1;32m     53\u001b[0m \u001b[39mdef\u001b[39;00m \u001b[39m_raise_if_failed\u001b[39m(hr: _spx_hr):\n\u001b[1;32m     54\u001b[0m     \u001b[39mif\u001b[39;00m hr \u001b[39m!=\u001b[39m \u001b[39m0\u001b[39m:\n\u001b[0;32m---> 55\u001b[0m         __try_get_error(_spx_handle(hr))\n\u001b[1;32m     56\u001b[0m         \u001b[39mraise\u001b[39;00m \u001b[39mRuntimeError\u001b[39;00m(hr)\n",
      "File \u001b[0;32m~/Library/Python/3.9/lib/python/site-packages/azure/cognitiveservices/speech/interop.py:50\u001b[0m, in \u001b[0;36m__try_get_error\u001b[0;34m(error_handle)\u001b[0m\n\u001b[1;32m     45\u001b[0m message \u001b[39m=\u001b[39m \u001b[39m\"\u001b[39m\u001b[39mException with error code: \u001b[39m\u001b[39m%s\u001b[39;00m\u001b[39m%s\u001b[39;00m\u001b[39m\"\u001b[39m \u001b[39m%\u001b[39m (\n\u001b[1;32m     46\u001b[0m     callstack \u001b[39mif\u001b[39;00m callstack \u001b[39mis\u001b[39;00m \u001b[39mnot\u001b[39;00m \u001b[39mNone\u001b[39;00m \u001b[39melse\u001b[39;00m \u001b[39m\"\u001b[39m\u001b[39m\"\u001b[39m,\n\u001b[1;32m     47\u001b[0m     what \u001b[39mif\u001b[39;00m what \u001b[39mis\u001b[39;00m \u001b[39mnot\u001b[39;00m \u001b[39mNone\u001b[39;00m \u001b[39melse\u001b[39;00m code\n\u001b[1;32m     48\u001b[0m )\n\u001b[1;32m     49\u001b[0m _sdk_lib\u001b[39m.\u001b[39merror_release(error_handle)\n\u001b[0;32m---> 50\u001b[0m \u001b[39mraise\u001b[39;00m \u001b[39mRuntimeError\u001b[39;00m(message)\n",
      "\u001b[0;31mRuntimeError\u001b[0m: Exception with error code: \n[CALL STACK BEGIN]\n\n3   libMicrosoft.CognitiveServices.Spee 0x00000001201b2cd8 _ZN9Microsoft17CognitiveServices6Speech4Impl17CSpxWavFileReader4OpenEPKc + 708\n4   libMicrosoft.CognitiveServices.Spee 0x00000001201b0c08 _ZN9Microsoft17CognitiveServices6Speech4Impl15CSpxWavFilePump10EnsureFileEPKc + 236\n5   libMicrosoft.CognitiveServices.Spee 0x00000001201b12b4 _ZThn64_N9Microsoft17CognitiveServices6Speech4Impl15CSpxWavFilePump4OpenEPKc + 24\n6   libMicrosoft.CognitiveServices.Spee 0x00000001201c1488 _ZN9Microsoft17CognitiveServices6Speech4Impl41ISpxAudioSourceControlAdaptsAudioPumpImplINS2_26CSpxFileAudioSourceAdapterEE17InitAudioFilePumpEPKcS7_ + 96\n7   libMicrosoft.CognitiveServices.Spee 0x00000001201bebe8 _ZN9Microsoft17CognitiveServices6Speech4Impl27ISpxAudioSourceFilePumpImplINS2_26CSpxFileAudioSourceAdapterEE12InitFromFileEPKc + 816\n8   libMicrosoft.CognitiveServices.Spee 0x00000001202f99fc _ZN9Microsoft17CognitiveServices6Speech4Impl31ISpxAudioSourceInitDelegateImplINS2_29CSpxDelegateToSharedPtrHelperINS2_19ISpxAudioSourceInitELb0EEEE12InitFromFileEPKc + 132\n9   libMicrosoft.CognitiveServices.Spee 0x00000001202f99fc _ZN9Microsoft17CognitiveServices6Speech4Impl31ISpxAudioSourceInitDelegateImplINS2_29CSpxDelegateToSharedPtrHelperINS2_19ISpxAudioSourceInitELb0EEEE12InitFromFileEPKc + 132\n10  libMicrosoft.CognitiveServices.Spee 0x000000012024c224 _ZN9Microsoft17CognitiveServices6Speech4Impl20QueryAndInvokeMemberINS2_19ISpxAudioSourceInitENS2_20ISpxAudioSessionShimEMS4_FvPKcEJRS7_EEEvNSt3__110shared_ptrIT0_EET1_DpOT2_ + 180\n11  libMicrosoft.CognitiveServices.Spee 0x000000012024bf0c _ZN9Microsoft17CognitiveServices6Speech4Impl22CSpxAudioStreamSession12InitFromFileEPKc + 276\n12  libMicrosoft.CognitiveServices.Spee 0x0000000120290f2c _ZN9Microsoft17CognitiveServices6Speech4Impl20CSpxSpeechApiFactory31InitSessionFromAudioInputConfigENSt3__110shared_ptrINS2_26ISpxAudioStreamSessionInitEEENS5_INS2_15ISpxAudioConfigEEE + 624\n13  libMicrosoft.CognitiveServices.Spee 0x000000012028e9b4 _ZN9Microsoft17CognitiveServices6Speech4Impl20CSpxSpeechApiFactory45CreateTranslationRecognizerFromConfigInternalENSt3__110shared_ptrINS2_15ISpxAudioConfigEEE + 552\n14  libMicrosoft.CognitiveServices.Spee 0x000000012028eed4 _ZThn48_N9Microsoft17CognitiveServices6Speech4Impl20CSpxSpeechApiFactory37CreateTranslationRecognizerFromConfigENSt3__110shared_ptrINS2_15ISpxAudioConfigEEE + 68\n15  libMicrosoft.CognitiveServices.Spee 0x0000000120057320 recognizer_create_translation_recognizer_from_config + 1392\n16  libffi.dylib                        0x00000001acf5c050 ffi_call_SYSV + 80\n17  libffi.dylib                        0x00000001acf64af8 ffi_call_int + 1208\n18  _ctypes.cpython-39-darwin.so        0x00000001045f33cc PyInit__ctypes + 25392\n19  _ctypes.cpython-39-darwin.so        0x00000001045ebed8 _ctypes.cpython-39-darwin.so + 16088\n[CALL STACK END]\n\nException with an error code: 0x8 (SPXERR_FILE_OPEN_FAILED)"
     ]
    }
   ],
   "source": [
    "\n",
    "recognizer = speech.translation.TranslationRecognizer(\n",
    "    translation_config=translation_config, audio_config=audio_config)"
   ]
  },
  {
   "cell_type": "code",
   "execution_count": 13,
   "metadata": {},
   "outputs": [
    {
     "ename": "KeyError",
     "evalue": "'en'",
     "output_type": "error",
     "traceback": [
      "\u001b[0;31m---------------------------------------------------------------------------\u001b[0m",
      "\u001b[0;31mKeyError\u001b[0m                                  Traceback (most recent call last)",
      "Cell \u001b[0;32mIn[13], line 9\u001b[0m\n\u001b[1;32m      7\u001b[0m source_language_text \u001b[39m=\u001b[39m result\u001b[39m.\u001b[39mtext\n\u001b[1;32m      8\u001b[0m duration \u001b[39m=\u001b[39m result\u001b[39m.\u001b[39mduration \u001b[39m/\u001b[39m\u001b[39m/\u001b[39m \u001b[39mpow\u001b[39m(\u001b[39m60\u001b[39m, \u001b[39m4\u001b[39m)\n\u001b[0;32m----> 9\u001b[0m result\u001b[39m.\u001b[39;49mtranslations[\u001b[39m'\u001b[39;49m\u001b[39men\u001b[39;49m\u001b[39m'\u001b[39;49m]\n\u001b[1;32m     11\u001b[0m translation_json \u001b[39m=\u001b[39m json\u001b[39m.\u001b[39mloads(result\u001b[39m.\u001b[39mjson)\n\u001b[1;32m     12\u001b[0m translation_json[\u001b[39m'\u001b[39m\u001b[39mRecognitionStatus\u001b[39m\u001b[39m'\u001b[39m]\n",
      "\u001b[0;31mKeyError\u001b[0m: 'en'"
     ]
    }
   ],
   "source": [
    "\n",
    "\n",
    "\n",
    "\n",
    "\n",
    "\n",
    "result = recognizer.recognize_once()\n",
    "vars(result)\n",
    "\n",
    "# translatin status\n",
    "result.reason\n",
    "\n",
    "source_language_text = result.text\n",
    "duration = result.duration // pow(60, 4)\n",
    "result.translations['en']\n",
    "\n",
    "translation_json = json.loads(result.json)\n",
    "translation_json['RecognitionStatus']\n",
    "translation_json['Duration']\n",
    "translation_json['Text']"
   ]
  },
  {
   "cell_type": "code",
   "execution_count": 5,
   "metadata": {},
   "outputs": [
    {
     "ename": "RuntimeError",
     "evalue": "Exception with error code: \n[CALL STACK BEGIN]\n\n3   libMicrosoft.CognitiveServices.Spee 0x00000001201b2cd8 _ZN9Microsoft17CognitiveServices6Speech4Impl17CSpxWavFileReader4OpenEPKc + 708\n4   libMicrosoft.CognitiveServices.Spee 0x00000001201b0c08 _ZN9Microsoft17CognitiveServices6Speech4Impl15CSpxWavFilePump10EnsureFileEPKc + 236\n5   libMicrosoft.CognitiveServices.Spee 0x00000001201b12b4 _ZThn64_N9Microsoft17CognitiveServices6Speech4Impl15CSpxWavFilePump4OpenEPKc + 24\n6   libMicrosoft.CognitiveServices.Spee 0x00000001201c1488 _ZN9Microsoft17CognitiveServices6Speech4Impl41ISpxAudioSourceControlAdaptsAudioPumpImplINS2_26CSpxFileAudioSourceAdapterEE17InitAudioFilePumpEPKcS7_ + 96\n7   libMicrosoft.CognitiveServices.Spee 0x00000001201bebe8 _ZN9Microsoft17CognitiveServices6Speech4Impl27ISpxAudioSourceFilePumpImplINS2_26CSpxFileAudioSourceAdapterEE12InitFromFileEPKc + 816\n8   libMicrosoft.CognitiveServices.Spee 0x00000001202f99fc _ZN9Microsoft17CognitiveServices6Speech4Impl31ISpxAudioSourceInitDelegateImplINS2_29CSpxDelegateToSharedPtrHelperINS2_19ISpxAudioSourceInitELb0EEEE12InitFromFileEPKc + 132\n9   libMicrosoft.CognitiveServices.Spee 0x00000001202f99fc _ZN9Microsoft17CognitiveServices6Speech4Impl31ISpxAudioSourceInitDelegateImplINS2_29CSpxDelegateToSharedPtrHelperINS2_19ISpxAudioSourceInitELb0EEEE12InitFromFileEPKc + 132\n10  libMicrosoft.CognitiveServices.Spee 0x000000012024c224 _ZN9Microsoft17CognitiveServices6Speech4Impl20QueryAndInvokeMemberINS2_19ISpxAudioSourceInitENS2_20ISpxAudioSessionShimEMS4_FvPKcEJRS7_EEEvNSt3__110shared_ptrIT0_EET1_DpOT2_ + 180\n11  libMicrosoft.CognitiveServices.Spee 0x000000012024bf0c _ZN9Microsoft17CognitiveServices6Speech4Impl22CSpxAudioStreamSession12InitFromFileEPKc + 276\n12  libMicrosoft.CognitiveServices.Spee 0x0000000120290f2c _ZN9Microsoft17CognitiveServices6Speech4Impl20CSpxSpeechApiFactory31InitSessionFromAudioInputConfigENSt3__110shared_ptrINS2_26ISpxAudioStreamSessionInitEEENS5_INS2_15ISpxAudioConfigEEE + 624\n13  libMicrosoft.CognitiveServices.Spee 0x000000012028e9b4 _ZN9Microsoft17CognitiveServices6Speech4Impl20CSpxSpeechApiFactory45CreateTranslationRecognizerFromConfigInternalENSt3__110shared_ptrINS2_15ISpxAudioConfigEEE + 552\n14  libMicrosoft.CognitiveServices.Spee 0x000000012028eed4 _ZThn48_N9Microsoft17CognitiveServices6Speech4Impl20CSpxSpeechApiFactory37CreateTranslationRecognizerFromConfigENSt3__110shared_ptrINS2_15ISpxAudioConfigEEE + 68\n15  libMicrosoft.CognitiveServices.Spee 0x0000000120057320 recognizer_create_translation_recognizer_from_config + 1392\n16  libffi.dylib                        0x00000001acf5c050 ffi_call_SYSV + 80\n17  libffi.dylib                        0x00000001acf64af8 ffi_call_int + 1208\n18  _ctypes.cpython-39-darwin.so        0x00000001045f33cc PyInit__ctypes + 25392\n19  _ctypes.cpython-39-darwin.so        0x00000001045ebed8 _ctypes.cpython-39-darwin.so + 16088\n[CALL STACK END]\n\nException with an error code: 0x8 (SPXERR_FILE_OPEN_FAILED)",
     "output_type": "error",
     "traceback": [
      "\u001b[0;31m---------------------------------------------------------------------------\u001b[0m",
      "\u001b[0;31mRuntimeError\u001b[0m                              Traceback (most recent call last)",
      "Cell \u001b[0;32mIn[5], line 9\u001b[0m\n\u001b[1;32m      5\u001b[0m translation_config\u001b[39m.\u001b[39madd_target_language(\u001b[39m'\u001b[39m\u001b[39men\u001b[39m\u001b[39m'\u001b[39m)\n\u001b[1;32m      8\u001b[0m audio_config \u001b[39m=\u001b[39m speech\u001b[39m.\u001b[39maudio\u001b[39m.\u001b[39mAudioConfig(filename\u001b[39m=\u001b[39mmedia_file_path)\n\u001b[0;32m----> 9\u001b[0m recognizer \u001b[39m=\u001b[39m speech\u001b[39m.\u001b[39;49mtranslation\u001b[39m.\u001b[39;49mTranslationRecognizer(\n\u001b[1;32m     10\u001b[0m     translation_config\u001b[39m=\u001b[39;49mtranslation_config, audio_config\u001b[39m=\u001b[39;49maudio_config)\n\u001b[1;32m     12\u001b[0m result \u001b[39m=\u001b[39m recognizer\u001b[39m.\u001b[39mrecognize_once()\n\u001b[1;32m     13\u001b[0m \u001b[39mvars\u001b[39m(result)\n",
      "File \u001b[0;32m~/Library/Python/3.9/lib/python/site-packages/azure/cognitiveservices/speech/translation.py:344\u001b[0m, in \u001b[0;36mTranslationRecognizer.__init__\u001b[0;34m(self, translation_config, auto_detect_source_language_config, audio_config)\u001b[0m\n\u001b[1;32m    342\u001b[0m handle \u001b[39m=\u001b[39m _spx_handle(\u001b[39m0\u001b[39m)\n\u001b[1;32m    343\u001b[0m \u001b[39mif\u001b[39;00m auto_detect_source_language_config \u001b[39mis\u001b[39;00m \u001b[39mNone\u001b[39;00m:\n\u001b[0;32m--> 344\u001b[0m     _call_hr_fn(\n\u001b[1;32m    345\u001b[0m         fn\u001b[39m=\u001b[39;49m_sdk_lib\u001b[39m.\u001b[39;49mrecognizer_create_translation_recognizer_from_config,\n\u001b[1;32m    346\u001b[0m         \u001b[39m*\u001b[39;49m[ctypes\u001b[39m.\u001b[39;49mbyref(handle), translation_config\u001b[39m.\u001b[39;49m_handle, audio_config_handle])\n\u001b[1;32m    347\u001b[0m \u001b[39melse\u001b[39;00m:\n\u001b[1;32m    348\u001b[0m     _call_hr_fn(\n\u001b[1;32m    349\u001b[0m         fn\u001b[39m=\u001b[39m_sdk_lib\u001b[39m.\u001b[39mrecognizer_create_translation_recognizer_from_auto_detect_source_lang_config,\n\u001b[1;32m    350\u001b[0m         \u001b[39m*\u001b[39m[ctypes\u001b[39m.\u001b[39mbyref(handle), translation_config\u001b[39m.\u001b[39m_handle, auto_detect_source_language_config\u001b[39m.\u001b[39m_handle, audio_config_handle])\n",
      "File \u001b[0;32m~/Library/Python/3.9/lib/python/site-packages/azure/cognitiveservices/speech/interop.py:62\u001b[0m, in \u001b[0;36m_call_hr_fn\u001b[0;34m(fn, *args)\u001b[0m\n\u001b[1;32m     60\u001b[0m fn\u001b[39m.\u001b[39mrestype \u001b[39m=\u001b[39m _spx_hr\n\u001b[1;32m     61\u001b[0m hr \u001b[39m=\u001b[39m fn(\u001b[39m*\u001b[39margs) \u001b[39mif\u001b[39;00m \u001b[39mlen\u001b[39m(args) \u001b[39m>\u001b[39m \u001b[39m0\u001b[39m \u001b[39melse\u001b[39;00m fn()\n\u001b[0;32m---> 62\u001b[0m _raise_if_failed(hr)\n",
      "File \u001b[0;32m~/Library/Python/3.9/lib/python/site-packages/azure/cognitiveservices/speech/interop.py:55\u001b[0m, in \u001b[0;36m_raise_if_failed\u001b[0;34m(hr)\u001b[0m\n\u001b[1;32m     53\u001b[0m \u001b[39mdef\u001b[39;00m \u001b[39m_raise_if_failed\u001b[39m(hr: _spx_hr):\n\u001b[1;32m     54\u001b[0m     \u001b[39mif\u001b[39;00m hr \u001b[39m!=\u001b[39m \u001b[39m0\u001b[39m:\n\u001b[0;32m---> 55\u001b[0m         __try_get_error(_spx_handle(hr))\n\u001b[1;32m     56\u001b[0m         \u001b[39mraise\u001b[39;00m \u001b[39mRuntimeError\u001b[39;00m(hr)\n",
      "File \u001b[0;32m~/Library/Python/3.9/lib/python/site-packages/azure/cognitiveservices/speech/interop.py:50\u001b[0m, in \u001b[0;36m__try_get_error\u001b[0;34m(error_handle)\u001b[0m\n\u001b[1;32m     45\u001b[0m message \u001b[39m=\u001b[39m \u001b[39m\"\u001b[39m\u001b[39mException with error code: \u001b[39m\u001b[39m%s\u001b[39;00m\u001b[39m%s\u001b[39;00m\u001b[39m\"\u001b[39m \u001b[39m%\u001b[39m (\n\u001b[1;32m     46\u001b[0m     callstack \u001b[39mif\u001b[39;00m callstack \u001b[39mis\u001b[39;00m \u001b[39mnot\u001b[39;00m \u001b[39mNone\u001b[39;00m \u001b[39melse\u001b[39;00m \u001b[39m\"\u001b[39m\u001b[39m\"\u001b[39m,\n\u001b[1;32m     47\u001b[0m     what \u001b[39mif\u001b[39;00m what \u001b[39mis\u001b[39;00m \u001b[39mnot\u001b[39;00m \u001b[39mNone\u001b[39;00m \u001b[39melse\u001b[39;00m code\n\u001b[1;32m     48\u001b[0m )\n\u001b[1;32m     49\u001b[0m _sdk_lib\u001b[39m.\u001b[39merror_release(error_handle)\n\u001b[0;32m---> 50\u001b[0m \u001b[39mraise\u001b[39;00m \u001b[39mRuntimeError\u001b[39;00m(message)\n",
      "\u001b[0;31mRuntimeError\u001b[0m: Exception with error code: \n[CALL STACK BEGIN]\n\n3   libMicrosoft.CognitiveServices.Spee 0x00000001201b2cd8 _ZN9Microsoft17CognitiveServices6Speech4Impl17CSpxWavFileReader4OpenEPKc + 708\n4   libMicrosoft.CognitiveServices.Spee 0x00000001201b0c08 _ZN9Microsoft17CognitiveServices6Speech4Impl15CSpxWavFilePump10EnsureFileEPKc + 236\n5   libMicrosoft.CognitiveServices.Spee 0x00000001201b12b4 _ZThn64_N9Microsoft17CognitiveServices6Speech4Impl15CSpxWavFilePump4OpenEPKc + 24\n6   libMicrosoft.CognitiveServices.Spee 0x00000001201c1488 _ZN9Microsoft17CognitiveServices6Speech4Impl41ISpxAudioSourceControlAdaptsAudioPumpImplINS2_26CSpxFileAudioSourceAdapterEE17InitAudioFilePumpEPKcS7_ + 96\n7   libMicrosoft.CognitiveServices.Spee 0x00000001201bebe8 _ZN9Microsoft17CognitiveServices6Speech4Impl27ISpxAudioSourceFilePumpImplINS2_26CSpxFileAudioSourceAdapterEE12InitFromFileEPKc + 816\n8   libMicrosoft.CognitiveServices.Spee 0x00000001202f99fc _ZN9Microsoft17CognitiveServices6Speech4Impl31ISpxAudioSourceInitDelegateImplINS2_29CSpxDelegateToSharedPtrHelperINS2_19ISpxAudioSourceInitELb0EEEE12InitFromFileEPKc + 132\n9   libMicrosoft.CognitiveServices.Spee 0x00000001202f99fc _ZN9Microsoft17CognitiveServices6Speech4Impl31ISpxAudioSourceInitDelegateImplINS2_29CSpxDelegateToSharedPtrHelperINS2_19ISpxAudioSourceInitELb0EEEE12InitFromFileEPKc + 132\n10  libMicrosoft.CognitiveServices.Spee 0x000000012024c224 _ZN9Microsoft17CognitiveServices6Speech4Impl20QueryAndInvokeMemberINS2_19ISpxAudioSourceInitENS2_20ISpxAudioSessionShimEMS4_FvPKcEJRS7_EEEvNSt3__110shared_ptrIT0_EET1_DpOT2_ + 180\n11  libMicrosoft.CognitiveServices.Spee 0x000000012024bf0c _ZN9Microsoft17CognitiveServices6Speech4Impl22CSpxAudioStreamSession12InitFromFileEPKc + 276\n12  libMicrosoft.CognitiveServices.Spee 0x0000000120290f2c _ZN9Microsoft17CognitiveServices6Speech4Impl20CSpxSpeechApiFactory31InitSessionFromAudioInputConfigENSt3__110shared_ptrINS2_26ISpxAudioStreamSessionInitEEENS5_INS2_15ISpxAudioConfigEEE + 624\n13  libMicrosoft.CognitiveServices.Spee 0x000000012028e9b4 _ZN9Microsoft17CognitiveServices6Speech4Impl20CSpxSpeechApiFactory45CreateTranslationRecognizerFromConfigInternalENSt3__110shared_ptrINS2_15ISpxAudioConfigEEE + 552\n14  libMicrosoft.CognitiveServices.Spee 0x000000012028eed4 _ZThn48_N9Microsoft17CognitiveServices6Speech4Impl20CSpxSpeechApiFactory37CreateTranslationRecognizerFromConfigENSt3__110shared_ptrINS2_15ISpxAudioConfigEEE + 68\n15  libMicrosoft.CognitiveServices.Spee 0x0000000120057320 recognizer_create_translation_recognizer_from_config + 1392\n16  libffi.dylib                        0x00000001acf5c050 ffi_call_SYSV + 80\n17  libffi.dylib                        0x00000001acf64af8 ffi_call_int + 1208\n18  _ctypes.cpython-39-darwin.so        0x00000001045f33cc PyInit__ctypes + 25392\n19  _ctypes.cpython-39-darwin.so        0x00000001045ebed8 _ctypes.cpython-39-darwin.so + 16088\n[CALL STACK END]\n\nException with an error code: 0x8 (SPXERR_FILE_OPEN_FAILED)"
     ]
    }
   ],
   "source": [
    "\n",
    "for translated in translation_json['Translation']['Translations']:\n",
    "    print(translated['Language'])\n",
    "    print(translated['Text'])\n",
    "    print()\n",
    "\n",
    "\n",
    "\n",
    "recognizer = speech.translation.TranslationRecognizer(\n",
    "    translation_config=translation_config, audio_config=audio_config)\n",
    "outputs = []\n",
    "toStop = False\n",
    "while not toStop:\n",
    "    if result.reason == speech.ResultReason.Canceled:\n",
    "        toStop = True\n",
    "        break\n",
    "    result = recognizer.recognize_once()\n",
    "    translation_json = json.loads(result.json)\n",
    "    for translated in translation_json['Translation']['Translations']:        \n",
    "        print(translated['Language'])\n",
    "        print(translated['Text'])\n",
    "        outputs.append({'language': translated['Language'],  'text': translated['Text']})\n",
    "        \n",
    "print(outputs)"
   ]
  },
  {
   "cell_type": "code",
   "execution_count": null,
   "metadata": {},
   "outputs": [],
   "source": []
  }
 ],
 "metadata": {
  "kernelspec": {
   "display_name": "Python 3",
   "language": "python",
   "name": "python3"
  },
  "language_info": {
   "codemirror_mode": {
    "name": "ipython",
    "version": 3
   },
   "file_extension": ".py",
   "mimetype": "text/x-python",
   "name": "python",
   "nbconvert_exporter": "python",
   "pygments_lexer": "ipython3",
   "version": "3.9.6"
  },
  "orig_nbformat": 4
 },
 "nbformat": 4,
 "nbformat_minor": 2
}
